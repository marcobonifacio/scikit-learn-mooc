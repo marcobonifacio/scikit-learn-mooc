{
 "cells": [
  {
   "cell_type": "code",
   "execution_count": 1,
   "id": "37c74230-94f4-4d35-838f-e367c8aaf559",
   "metadata": {},
   "outputs": [],
   "source": [
    "import pandas as pd\n",
    "\n",
    "blood_transfusion = pd.read_csv(\"../datasets/blood_transfusion.csv\")\n",
    "target_name = \"Class\"\n",
    "data = blood_transfusion.drop(columns=target_name)\n",
    "target = blood_transfusion[target_name]"
   ]
  },
  {
   "cell_type": "code",
   "execution_count": 3,
   "id": "76dbc09c-886d-4373-b828-82a596e7ed84",
   "metadata": {},
   "outputs": [
    {
     "data": {
      "text/html": [
       "<div>\n",
       "<style scoped>\n",
       "    .dataframe tbody tr th:only-of-type {\n",
       "        vertical-align: middle;\n",
       "    }\n",
       "\n",
       "    .dataframe tbody tr th {\n",
       "        vertical-align: top;\n",
       "    }\n",
       "\n",
       "    .dataframe thead th {\n",
       "        text-align: right;\n",
       "    }\n",
       "</style>\n",
       "<table border=\"1\" class=\"dataframe\">\n",
       "  <thead>\n",
       "    <tr style=\"text-align: right;\">\n",
       "      <th></th>\n",
       "      <th>Recency</th>\n",
       "      <th>Frequency</th>\n",
       "      <th>Monetary</th>\n",
       "      <th>Time</th>\n",
       "    </tr>\n",
       "  </thead>\n",
       "  <tbody>\n",
       "    <tr>\n",
       "      <th>0</th>\n",
       "      <td>2</td>\n",
       "      <td>50</td>\n",
       "      <td>12500</td>\n",
       "      <td>98</td>\n",
       "    </tr>\n",
       "    <tr>\n",
       "      <th>1</th>\n",
       "      <td>0</td>\n",
       "      <td>13</td>\n",
       "      <td>3250</td>\n",
       "      <td>28</td>\n",
       "    </tr>\n",
       "    <tr>\n",
       "      <th>2</th>\n",
       "      <td>1</td>\n",
       "      <td>16</td>\n",
       "      <td>4000</td>\n",
       "      <td>35</td>\n",
       "    </tr>\n",
       "    <tr>\n",
       "      <th>3</th>\n",
       "      <td>2</td>\n",
       "      <td>20</td>\n",
       "      <td>5000</td>\n",
       "      <td>45</td>\n",
       "    </tr>\n",
       "    <tr>\n",
       "      <th>4</th>\n",
       "      <td>1</td>\n",
       "      <td>24</td>\n",
       "      <td>6000</td>\n",
       "      <td>77</td>\n",
       "    </tr>\n",
       "  </tbody>\n",
       "</table>\n",
       "</div>"
      ],
      "text/plain": [
       "   Recency  Frequency  Monetary  Time\n",
       "0        2         50     12500    98\n",
       "1        0         13      3250    28\n",
       "2        1         16      4000    35\n",
       "3        2         20      5000    45\n",
       "4        1         24      6000    77"
      ]
     },
     "execution_count": 3,
     "metadata": {},
     "output_type": "execute_result"
    }
   ],
   "source": [
    "data.head()"
   ]
  },
  {
   "cell_type": "code",
   "execution_count": 4,
   "id": "cdd8f9a5-8bf0-463d-af35-36893ea3110a",
   "metadata": {},
   "outputs": [
    {
     "data": {
      "text/plain": [
       "0        donated\n",
       "1        donated\n",
       "2        donated\n",
       "3        donated\n",
       "4    not donated\n",
       "Name: Class, dtype: object"
      ]
     },
     "execution_count": 4,
     "metadata": {},
     "output_type": "execute_result"
    }
   ],
   "source": [
    "target.head()"
   ]
  },
  {
   "cell_type": "code",
   "execution_count": 5,
   "id": "bc0bdb64-67f6-4885-89d2-29fc3e5d765d",
   "metadata": {},
   "outputs": [
    {
     "data": {
      "text/plain": [
       "array(['donated', 'not donated'], dtype=object)"
      ]
     },
     "execution_count": 5,
     "metadata": {},
     "output_type": "execute_result"
    }
   ],
   "source": [
    "target.unique()"
   ]
  },
  {
   "cell_type": "code",
   "execution_count": 6,
   "id": "4c5d3343-e263-46d5-85e7-f9ea62210962",
   "metadata": {},
   "outputs": [
    {
     "data": {
      "text/plain": [
       "not donated    570\n",
       "donated        178\n",
       "Name: Class, dtype: int64"
      ]
     },
     "execution_count": 6,
     "metadata": {},
     "output_type": "execute_result"
    }
   ],
   "source": [
    "target.value_counts()"
   ]
  },
  {
   "cell_type": "code",
   "execution_count": 8,
   "id": "04c591da-87be-4baf-b95c-9c7bce979788",
   "metadata": {},
   "outputs": [
    {
     "data": {
      "text/plain": [
       "{'fit_time': array([0.00200462, 0.00199986, 0.00100112, 0.00199938, 0.00300622,\n",
       "        0.0030067 , 0.00199819, 0.00200057, 0.00200558, 0.00100112]),\n",
       " 'score_time': array([0.00400758, 0.        , 0.00099993, 0.00098729, 0.00099587,\n",
       "        0.00099587, 0.00099754, 0.00099993, 0.00299621, 0.00100183]),\n",
       " 'test_score': array([0.76      , 0.76      , 0.76      , 0.76      , 0.76      ,\n",
       "        0.76      , 0.76      , 0.76      , 0.77027027, 0.77027027])}"
      ]
     },
     "execution_count": 8,
     "metadata": {},
     "output_type": "execute_result"
    }
   ],
   "source": [
    "from sklearn.dummy import DummyClassifier\n",
    "from sklearn.model_selection import cross_validate\n",
    "\n",
    "clf = DummyClassifier(strategy='most_frequent')\n",
    "cv_results = cross_validate(clf, data, target, cv=10)\n",
    "cv_results"
   ]
  },
  {
   "cell_type": "code",
   "execution_count": 9,
   "id": "1e7dfa93-fa58-47e1-9702-72b996e1cdac",
   "metadata": {},
   "outputs": [
    {
     "data": {
      "text/plain": [
       "{'fit_time': array([0.00400233, 0.00299144, 0.00200105, 0.00301456, 0.00200653,\n",
       "        0.00201154, 0.00200224, 0.00100231, 0.00099683, 0.00200129]),\n",
       " 'score_time': array([0.00499773, 0.00199604, 0.00099921, 0.00100207, 0.00099611,\n",
       "        0.00204563, 0.00299954, 0.00099659, 0.00199032, 0.00100112]),\n",
       " 'test_score': array([0.5, 0.5, 0.5, 0.5, 0.5, 0.5, 0.5, 0.5, 0.5, 0.5])}"
      ]
     },
     "execution_count": 9,
     "metadata": {},
     "output_type": "execute_result"
    }
   ],
   "source": [
    "cv_results = cross_validate(clf, data, target, cv=10, scoring='balanced_accuracy')\n",
    "cv_results"
   ]
  },
  {
   "cell_type": "code",
   "execution_count": 11,
   "id": "2f8c9f7a-dcb0-41b1-92ff-75f6bb72c354",
   "metadata": {},
   "outputs": [],
   "source": [
    "from sklearn.neighbors import KNeighborsClassifier\n",
    "from sklearn.preprocessing import StandardScaler\n",
    "from sklearn.pipeline import make_pipeline"
   ]
  },
  {
   "cell_type": "code",
   "execution_count": 17,
   "id": "303bc0a3-53c4-48e3-bd72-0c696047170b",
   "metadata": {},
   "outputs": [
    {
     "name": "stdout",
     "output_type": "stream",
     "text": [
      "Wall time: 126 ms\n"
     ]
    },
    {
     "data": {
      "text/plain": [
       "{'fit_time': array([0.00899982, 0.00600147, 0.0080142 , 0.00698781, 0.00699973]),\n",
       " 'score_time': array([0.01399827, 0.01300621, 0.01699853, 0.02400327, 0.01499963]),\n",
       " 'test_score': array([0.41333333, 0.62      , 0.76      , 0.73154362, 0.77181208])}"
      ]
     },
     "execution_count": 17,
     "metadata": {},
     "output_type": "execute_result"
    }
   ],
   "source": [
    "%%time\n",
    "clf = KNeighborsClassifier()\n",
    "cv_results = cross_validate(clf, data, target)\n",
    "cv_results"
   ]
  },
  {
   "cell_type": "code",
   "execution_count": 18,
   "id": "a42f4f93-717a-492e-9c3b-3e703317e4a8",
   "metadata": {},
   "outputs": [
    {
     "name": "stdout",
     "output_type": "stream",
     "text": [
      "Wall time: 133 ms\n"
     ]
    },
    {
     "data": {
      "text/plain": [
       "{'fit_time': array([0.0110054 , 0.00899458, 0.00999975, 0.00800037, 0.00899506]),\n",
       " 'score_time': array([0.0139966 , 0.0170033 , 0.01600409, 0.01299977, 0.01400232]),\n",
       " 'test_score': array([0.38      , 0.6       , 0.72666667, 0.69798658, 0.77181208])}"
      ]
     },
     "execution_count": 18,
     "metadata": {},
     "output_type": "execute_result"
    }
   ],
   "source": [
    "%%time\n",
    "model = make_pipeline(StandardScaler(), KNeighborsClassifier())\n",
    "cv_results = cross_validate(model, data, target)\n",
    "cv_results"
   ]
  },
  {
   "cell_type": "code",
   "execution_count": 19,
   "id": "193d7ed3-f52c-4054-9a9b-902047e98397",
   "metadata": {},
   "outputs": [
    {
     "data": {
      "text/plain": [
       "{'memory': None,\n",
       " 'steps': [('standardscaler', StandardScaler()),\n",
       "  ('kneighborsclassifier', KNeighborsClassifier())],\n",
       " 'verbose': False,\n",
       " 'standardscaler': StandardScaler(),\n",
       " 'kneighborsclassifier': KNeighborsClassifier(),\n",
       " 'standardscaler__copy': True,\n",
       " 'standardscaler__with_mean': True,\n",
       " 'standardscaler__with_std': True,\n",
       " 'kneighborsclassifier__algorithm': 'auto',\n",
       " 'kneighborsclassifier__leaf_size': 30,\n",
       " 'kneighborsclassifier__metric': 'minkowski',\n",
       " 'kneighborsclassifier__metric_params': None,\n",
       " 'kneighborsclassifier__n_jobs': None,\n",
       " 'kneighborsclassifier__n_neighbors': 5,\n",
       " 'kneighborsclassifier__p': 2,\n",
       " 'kneighborsclassifier__weights': 'uniform'}"
      ]
     },
     "execution_count": 19,
     "metadata": {},
     "output_type": "execute_result"
    }
   ],
   "source": [
    "model.get_params()"
   ]
  },
  {
   "cell_type": "code",
   "execution_count": 20,
   "id": "5fa1fbec-28c5-491e-9bc3-665f0f06830c",
   "metadata": {},
   "outputs": [
    {
     "name": "stdout",
     "output_type": "stream",
     "text": [
      "Wall time: 644 ms\n"
     ]
    },
    {
     "data": {
      "text/plain": [
       "{'fit_time': array([0.01400256, 0.00800014, 0.00600028, 0.0109992 , 0.01100183,\n",
       "        0.00799918, 0.01100039, 0.00899887, 0.006001  , 0.00800228]),\n",
       " 'score_time': array([0.01400161, 0.01000357, 0.00900221, 0.01100206, 0.00799918,\n",
       "        0.00700045, 0.01100087, 0.01000094, 0.00599957, 0.01199937]),\n",
       " 'test_score': array([0.56871345, 0.45321637, 0.46345029, 0.48391813, 0.48245614,\n",
       "        0.5       , 0.56140351, 0.74561404, 0.50309598, 0.52941176]),\n",
       " 'train_score': array([0.7160575 , 0.70066399, 0.68093933, 0.70846126, 0.70788865,\n",
       "        0.71706262, 0.70026194, 0.67076023, 0.69338806, 0.69898781])}"
      ]
     },
     "execution_count": 20,
     "metadata": {},
     "output_type": "execute_result"
    }
   ],
   "source": [
    "%%time\n",
    "model = make_pipeline(StandardScaler(), KNeighborsClassifier())\n",
    "cv_results = cross_validate(model, data, target, cv=10, scoring='balanced_accuracy', return_train_score=True)\n",
    "cv_results"
   ]
  },
  {
   "cell_type": "code",
   "execution_count": 21,
   "id": "1c3fdd6d-117c-4f49-ba77-0402b5bc4793",
   "metadata": {},
   "outputs": [],
   "source": [
    "param_range = [1, 2, 5, 10, 20, 50, 100, 200, 500]"
   ]
  },
  {
   "cell_type": "code",
   "execution_count": 22,
   "id": "a3011b3b-41a0-46fc-8c57-c6fc116ea25c",
   "metadata": {},
   "outputs": [],
   "source": [
    "from sklearn.model_selection import validation_curve\n",
    "\n",
    "train_scores, test_scores = validation_curve(\n",
    "    model, data, target, param_name='kneighborsclassifier__n_neighbors',\n",
    "    param_range=param_range, scoring='balanced_accuracy')"
   ]
  },
  {
   "cell_type": "code",
   "execution_count": 26,
   "id": "c0c11ab1-e8d3-49a1-8865-3b8b139520dd",
   "metadata": {},
   "outputs": [
    {
     "data": {
      "image/png": "[encoded data removed]",
      "text/plain": [
       "<Figure size 432x288 with 1 Axes>"
      ]
     },
     "metadata": {
      "needs_background": "light"
     },
     "output_type": "display_data"
    }
   ],
   "source": [
    "import matplotlib.pyplot as plt\n",
    "plt.errorbar(param_range, train_scores.mean(axis=1),\n",
    "             yerr=train_scores.std(axis=1), label='Training score')\n",
    "plt.errorbar(param_range, test_scores.mean(axis=1),\n",
    "             yerr=test_scores.std(axis=1), label='Testing score')\n",
    "plt.legend()\n",
    "\n",
    "plt.xscale('log')\n",
    "plt.xlabel(\"Number of neighbors\")\n",
    "plt.ylabel(\"Balanced accuracy score\")\n",
    "_ = plt.title(\"Validation curve for scaled K-neighbors model\")"
   ]
  },
  {
   "cell_type": "code",
   "execution_count": null,
   "id": "4db61ad2-922b-4365-9774-c2f33f779460",
   "metadata": {},
   "outputs": [],
   "source": []
  }
 ],
 "metadata": {
  "kernelspec": {
   "display_name": "Python (blog)",
   "language": "python",
   "name": "blog"
  },
  "language_info": {
   "codemirror_mode": {
    "name": "ipython",
    "version": 3
   },
   "file_extension": ".py",
   "mimetype": "text/x-python",
   "name": "python",
   "nbconvert_exporter": "python",
   "pygments_lexer": "ipython3",
   "version": "3.9.2"
  }
 },
 "nbformat": 4,
 "nbformat_minor": 5
}
