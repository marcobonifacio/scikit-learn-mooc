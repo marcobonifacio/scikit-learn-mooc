{
 "cells": [
  {
   "cell_type": "markdown",
   "id": "a3357b05",
   "metadata": {},
   "source": [
    "# 📝 Exercise M1.03\n",
    "\n",
    "The goal of this exercise is to compare the statistical performance of our\n",
    "classifier (81% accuracy) to some baseline classifiers that would ignore the\n",
    "input data and instead make constant predictions.\n",
    "\n",
    "- What would be the score of a model that always predicts `' >50K'`?\n",
    "- What would be the score of a model that always predicts `' <=50K'`?\n",
    "- Is 81% or 82% accuracy a good score for this problem?\n",
    "\n",
    "Use a `DummyClassifier` and do a train-test split to evaluate\n",
    "its accuracy on the test set. This\n",
    "[link](https://scikit-learn.org/stable/modules/model_evaluation.html#dummy-estimators)\n",
    "shows a few examples of how to evaluate the statistical performance of these\n",
    "baseline models."
   ]
  },
  {
   "cell_type": "code",
   "execution_count": 1,
   "id": "6d8761f4",
   "metadata": {},
   "outputs": [],
   "source": [
    "import pandas as pd\n",
    "\n",
    "adult_census = pd.read_csv(\"../datasets/adult-census.csv\")"
   ]
  },
  {
   "cell_type": "markdown",
   "id": "f22934a0",
   "metadata": {},
   "source": [
    "We will first split our dataset to have the target separated from the data\n",
    "used to train our predictive model."
   ]
  },
  {
   "cell_type": "code",
   "execution_count": 2,
   "id": "cf14c235",
   "metadata": {},
   "outputs": [],
   "source": [
    "target_name = \"class\"\n",
    "target = adult_census[target_name]\n",
    "data = adult_census.drop(columns=target_name)"
   ]
  },
  {
   "cell_type": "markdown",
   "id": "c99463a5",
   "metadata": {},
   "source": [
    "We start by selecting only the numerical columns as seen in the previous\n",
    "notebook."
   ]
  },
  {
   "cell_type": "code",
   "execution_count": 3,
   "id": "9fbe9179",
   "metadata": {},
   "outputs": [],
   "source": [
    "numerical_columns = [\n",
    "    \"age\", \"capital-gain\", \"capital-loss\", \"hours-per-week\"]\n",
    "\n",
    "data_numeric = data[numerical_columns]"
   ]
  },
  {
   "cell_type": "markdown",
   "id": "481f574e",
   "metadata": {},
   "source": [
    "Split the dataset into a train and test sets."
   ]
  },
  {
   "cell_type": "code",
   "execution_count": 5,
   "id": "aab4977b",
   "metadata": {
    "lines_to_next_cell": 2
   },
   "outputs": [],
   "source": [
    "from sklearn.model_selection import train_test_split\n",
    "\n",
    "data_train, data_test, target_train, target_test = train_test_split(\n",
    "    data_numeric, target, random_state=42, test_size=.25\n",
    ")"
   ]
  },
  {
   "cell_type": "markdown",
   "id": "ab82703b",
   "metadata": {},
   "source": [
    "Use a `DummyClassifier` such that the resulting classifier will always\n",
    "predict the class `' >50K'`. What is the accuracy score on the test set?\n",
    "Repeat the experiment by always predicting the class `' <=50K'`.\n",
    "\n",
    "Hint: you can refer to the parameter `strategy` of the `DummyClassifier`\n",
    "to achieve the desired behaviour."
   ]
  },
  {
   "cell_type": "code",
   "execution_count": 9,
   "id": "40cc22a6",
   "metadata": {},
   "outputs": [
    {
     "data": {
      "text/plain": [
       "0.23396937187781508"
      ]
     },
     "execution_count": 9,
     "metadata": {},
     "output_type": "execute_result"
    }
   ],
   "source": [
    "from sklearn.dummy import DummyClassifier\n",
    "\n",
    "clf_hi = DummyClassifier(strategy='constant', constant=' >50K')\n",
    "clf_hi.fit(data_train, target_train)\n",
    "clf_hi.score(data_test, target_test)"
   ]
  },
  {
   "cell_type": "code",
   "execution_count": 10,
   "id": "d6f73019-8bee-441c-9181-9db351ec48aa",
   "metadata": {},
   "outputs": [
    {
     "data": {
      "text/plain": [
       "0.7660306281221849"
      ]
     },
     "execution_count": 10,
     "metadata": {},
     "output_type": "execute_result"
    }
   ],
   "source": [
    "clf_lo = DummyClassifier(strategy='constant', constant=' <=50K')\n",
    "clf_lo.fit(data_train, target_train)\n",
    "clf_lo.score(data_test, target_test)"
   ]
  },
  {
   "cell_type": "code",
   "execution_count": null,
   "id": "439605a0-cec0-4eb6-b6a1-6192689a377d",
   "metadata": {},
   "outputs": [],
   "source": []
  }
 ],
 "metadata": {
  "kernelspec": {
   "display_name": "Python (blog)",
   "language": "python",
   "name": "blog"
  },
  "language_info": {
   "codemirror_mode": {
    "name": "ipython",
    "version": 3
   },
   "file_extension": ".py",
   "mimetype": "text/x-python",
   "name": "python",
   "nbconvert_exporter": "python",
   "pygments_lexer": "ipython3",
   "version": "3.9.2"
  }
 },
 "nbformat": 4,
 "nbformat_minor": 5
}
