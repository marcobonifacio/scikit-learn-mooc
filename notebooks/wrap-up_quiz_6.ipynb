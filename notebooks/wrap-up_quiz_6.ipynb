{
 "cells": [
  {
   "cell_type": "code",
   "execution_count": 9,
   "id": "50f70989-1c12-4210-86f6-ad4d0decb539",
   "metadata": {},
   "outputs": [],
   "source": [
    "import pandas as pd\n",
    "\n",
    "ames_housing = pd.read_csv(\"../datasets/house_prices.csv\", na_values=\"?\")\n",
    "target_name = \"SalePrice\"\n",
    "data = ames_housing.drop(columns=target_name)\n",
    "target = ames_housing[target_name]"
   ]
  },
  {
   "cell_type": "code",
   "execution_count": 10,
   "id": "0320f8b8-532b-4a11-a8e4-8add76bb006b",
   "metadata": {},
   "outputs": [],
   "source": [
    "numerical_features = [\n",
    "    \"LotFrontage\", \"LotArea\", \"MasVnrArea\", \"BsmtFinSF1\", \"BsmtFinSF2\",\n",
    "    \"BsmtUnfSF\", \"TotalBsmtSF\", \"1stFlrSF\", \"2ndFlrSF\", \"LowQualFinSF\",\n",
    "    \"GrLivArea\", \"BedroomAbvGr\", \"KitchenAbvGr\", \"TotRmsAbvGrd\", \"Fireplaces\",\n",
    "    \"GarageCars\", \"GarageArea\", \"WoodDeckSF\", \"OpenPorchSF\", \"EnclosedPorch\",\n",
    "    \"3SsnPorch\", \"ScreenPorch\", \"PoolArea\", \"MiscVal\",\n",
    "]\n",
    "\n",
    "data_numerical = data[numerical_features]"
   ]
  },
  {
   "cell_type": "code",
   "execution_count": 11,
   "id": "96b6d36b-cd69-47ad-8a37-ae8bcfd75cd3",
   "metadata": {},
   "outputs": [
    {
     "name": "stdout",
     "output_type": "stream",
     "text": [
      "<class 'pandas.core.frame.DataFrame'>\n",
      "RangeIndex: 1460 entries, 0 to 1459\n",
      "Data columns (total 24 columns):\n",
      " #   Column         Non-Null Count  Dtype  \n",
      "---  ------         --------------  -----  \n",
      " 0   LotFrontage    1201 non-null   float64\n",
      " 1   LotArea        1460 non-null   int64  \n",
      " 2   MasVnrArea     1452 non-null   float64\n",
      " 3   BsmtFinSF1     1460 non-null   int64  \n",
      " 4   BsmtFinSF2     1460 non-null   int64  \n",
      " 5   BsmtUnfSF      1460 non-null   int64  \n",
      " 6   TotalBsmtSF    1460 non-null   int64  \n",
      " 7   1stFlrSF       1460 non-null   int64  \n",
      " 8   2ndFlrSF       1460 non-null   int64  \n",
      " 9   LowQualFinSF   1460 non-null   int64  \n",
      " 10  GrLivArea      1460 non-null   int64  \n",
      " 11  BedroomAbvGr   1460 non-null   int64  \n",
      " 12  KitchenAbvGr   1460 non-null   int64  \n",
      " 13  TotRmsAbvGrd   1460 non-null   int64  \n",
      " 14  Fireplaces     1460 non-null   int64  \n",
      " 15  GarageCars     1460 non-null   int64  \n",
      " 16  GarageArea     1460 non-null   int64  \n",
      " 17  WoodDeckSF     1460 non-null   int64  \n",
      " 18  OpenPorchSF    1460 non-null   int64  \n",
      " 19  EnclosedPorch  1460 non-null   int64  \n",
      " 20  3SsnPorch      1460 non-null   int64  \n",
      " 21  ScreenPorch    1460 non-null   int64  \n",
      " 22  PoolArea       1460 non-null   int64  \n",
      " 23  MiscVal        1460 non-null   int64  \n",
      "dtypes: float64(2), int64(22)\n",
      "memory usage: 273.9 KB\n"
     ]
    }
   ],
   "source": [
    "data_numerical.info()"
   ]
  },
  {
   "cell_type": "code",
   "execution_count": 12,
   "id": "7df57b95-1a3a-461b-9269-8c8372b020f5",
   "metadata": {},
   "outputs": [
    {
     "name": "stderr",
     "output_type": "stream",
     "text": [
      "C:\\Users\\Bonifacio\\Miniforge3\\envs\\blog\\lib\\site-packages\\pandas\\core\\frame.py:3607: SettingWithCopyWarning: \n",
      "A value is trying to be set on a copy of a slice from a DataFrame.\n",
      "Try using .loc[row_indexer,col_indexer] = value instead\n",
      "\n",
      "See the caveats in the documentation: https://pandas.pydata.org/pandas-docs/stable/user_guide/indexing.html#returning-a-view-versus-a-copy\n",
      "  self._set_item(key, value)\n",
      "C:\\Users\\Bonifacio\\Miniforge3\\envs\\blog\\lib\\site-packages\\pandas\\core\\frame.py:3607: SettingWithCopyWarning: \n",
      "A value is trying to be set on a copy of a slice from a DataFrame.\n",
      "Try using .loc[row_indexer,col_indexer] = value instead\n",
      "\n",
      "See the caveats in the documentation: https://pandas.pydata.org/pandas-docs/stable/user_guide/indexing.html#returning-a-view-versus-a-copy\n",
      "  self._set_item(key, value)\n"
     ]
    }
   ],
   "source": [
    "from sklearn.impute import SimpleImputer\n",
    "\n",
    "data_numerical['LotFrontage'] = SimpleImputer().fit_transform(data_numerical['LotFrontage'].to_frame())\n",
    "data_numerical['MasVnrArea'] = SimpleImputer().fit_transform(data_numerical['MasVnrArea'].to_frame())"
   ]
  },
  {
   "cell_type": "code",
   "execution_count": 13,
   "id": "f44401b7-6db1-4af8-a0f4-144ac00e1d57",
   "metadata": {},
   "outputs": [
    {
     "name": "stdout",
     "output_type": "stream",
     "text": [
      "<class 'pandas.core.frame.DataFrame'>\n",
      "RangeIndex: 1460 entries, 0 to 1459\n",
      "Data columns (total 24 columns):\n",
      " #   Column         Non-Null Count  Dtype  \n",
      "---  ------         --------------  -----  \n",
      " 0   LotFrontage    1460 non-null   float64\n",
      " 1   LotArea        1460 non-null   int64  \n",
      " 2   MasVnrArea     1460 non-null   float64\n",
      " 3   BsmtFinSF1     1460 non-null   int64  \n",
      " 4   BsmtFinSF2     1460 non-null   int64  \n",
      " 5   BsmtUnfSF      1460 non-null   int64  \n",
      " 6   TotalBsmtSF    1460 non-null   int64  \n",
      " 7   1stFlrSF       1460 non-null   int64  \n",
      " 8   2ndFlrSF       1460 non-null   int64  \n",
      " 9   LowQualFinSF   1460 non-null   int64  \n",
      " 10  GrLivArea      1460 non-null   int64  \n",
      " 11  BedroomAbvGr   1460 non-null   int64  \n",
      " 12  KitchenAbvGr   1460 non-null   int64  \n",
      " 13  TotRmsAbvGrd   1460 non-null   int64  \n",
      " 14  Fireplaces     1460 non-null   int64  \n",
      " 15  GarageCars     1460 non-null   int64  \n",
      " 16  GarageArea     1460 non-null   int64  \n",
      " 17  WoodDeckSF     1460 non-null   int64  \n",
      " 18  OpenPorchSF    1460 non-null   int64  \n",
      " 19  EnclosedPorch  1460 non-null   int64  \n",
      " 20  3SsnPorch      1460 non-null   int64  \n",
      " 21  ScreenPorch    1460 non-null   int64  \n",
      " 22  PoolArea       1460 non-null   int64  \n",
      " 23  MiscVal        1460 non-null   int64  \n",
      "dtypes: float64(2), int64(22)\n",
      "memory usage: 273.9 KB\n"
     ]
    }
   ],
   "source": [
    "data_numerical.info()"
   ]
  },
  {
   "cell_type": "code",
   "execution_count": 16,
   "id": "bf7dafb0-1caf-4b44-9335-b6b53e88dbb7",
   "metadata": {},
   "outputs": [],
   "source": [
    "from sklearn.preprocessing import StandardScaler\n",
    "from sklearn.pipeline import make_pipeline\n",
    "from sklearn.linear_model import LinearRegression\n",
    "from sklearn.tree import DecisionTreeRegressor\n",
    "\n",
    "linear_model = make_pipeline(StandardScaler(), LinearRegression())\n",
    "tree_model = make_pipeline(StandardScaler(), DecisionTreeRegressor())"
   ]
  },
  {
   "cell_type": "code",
   "execution_count": 18,
   "id": "aaedd555-4ec0-4e51-b89e-043ecb1ac137",
   "metadata": {},
   "outputs": [],
   "source": [
    "from sklearn.model_selection import cross_validate\n",
    "\n",
    "linear_cvres = cross_validate(linear_model, data_numerical, target, cv=10)\n",
    "tree_cvres = cross_validate(tree_model, data_numerical, target, cv=10)"
   ]
  },
  {
   "cell_type": "code",
   "execution_count": 20,
   "id": "ea7f2ea3-f3d1-4da8-8a85-fe75b4bcf7db",
   "metadata": {},
   "outputs": [
    {
     "name": "stdout",
     "output_type": "stream",
     "text": [
      "Linear score: 0.72 +/- 0.14\n",
      "Tree score: 0.62 +/- 0.08\n"
     ]
    }
   ],
   "source": [
    "print(f\"Linear score: {linear_cvres['test_score'].mean():.2f} +/- {linear_cvres['test_score'].std():.2f}\")\n",
    "print(f\"Tree score: {tree_cvres['test_score'].mean():.2f} +/- {tree_cvres['test_score'].std():.2f}\")"
   ]
  },
  {
   "cell_type": "code",
   "execution_count": null,
   "id": "56dda158-147a-47e8-86c4-adf79e143788",
   "metadata": {},
   "outputs": [],
   "source": []
  }
 ],
 "metadata": {
  "kernelspec": {
   "display_name": "Python (blog)",
   "language": "python",
   "name": "blog"
  },
  "language_info": {
   "codemirror_mode": {
    "name": "ipython",
    "version": 3
   },
   "file_extension": ".py",
   "mimetype": "text/x-python",
   "name": "python",
   "nbconvert_exporter": "python",
   "pygments_lexer": "ipython3",
   "version": "3.9.2"
  },
  "widgets": {
   "application/vnd.jupyter.widget-state+json": {
    "state": {},
    "version_major": 2,
    "version_minor": 0
   }
  }
 },
 "nbformat": 4,
 "nbformat_minor": 5
}
