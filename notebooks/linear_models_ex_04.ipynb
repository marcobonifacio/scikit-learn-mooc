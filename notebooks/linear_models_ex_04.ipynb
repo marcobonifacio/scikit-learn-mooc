{
 "cells": [
  {
   "cell_type": "markdown",
   "id": "65909029",
   "metadata": {},
   "source": [
    "# 📝 Exercise M4.04\n",
    "\n",
    "In the previous notebook, we saw the effect of applying some regularization\n",
    "on the coefficient of a linear model.\n",
    "\n",
    "In this exercise, we will study the advantage of using some regularization\n",
    "when dealing with correlated features.\n",
    "\n",
    "We will first create a regression dataset. This dataset will contain 2,000\n",
    "samples and 5 features from which only 2 features will be informative."
   ]
  },
  {
   "cell_type": "code",
   "execution_count": 1,
   "id": "b5625a45",
   "metadata": {},
   "outputs": [],
   "source": [
    "from sklearn.datasets import make_regression\n",
    "\n",
    "data, target, coef = make_regression(\n",
    "    n_samples=2_000, n_features=5, n_informative=2, shuffle=False,\n",
    "    coef=True, random_state=0, noise=30,\n",
    ")"
   ]
  },
  {
   "cell_type": "markdown",
   "id": "4eec54ad",
   "metadata": {},
   "source": [
    "When creating the dataset, `make_regression` returns the true coefficient\n",
    "used to generate the dataset. Let's plot this information."
   ]
  },
  {
   "cell_type": "code",
   "execution_count": 2,
   "id": "a252c401",
   "metadata": {},
   "outputs": [
    {
     "data": {
      "text/plain": [
       "Features 0     9.566665\n",
       "Features 1    40.192077\n",
       "Features 2     0.000000\n",
       "Features 3     0.000000\n",
       "Features 4     0.000000\n",
       "dtype: float64"
      ]
     },
     "execution_count": 2,
     "metadata": {},
     "output_type": "execute_result"
    },
    {
     "data": {
      "image/png": "[encoded data removed]",
      "text/plain": [
       "<Figure size 432x288 with 1 Axes>"
      ]
     },
     "metadata": {
      "needs_background": "light"
     },
     "output_type": "display_data"
    }
   ],
   "source": [
    "import pandas as pd\n",
    "\n",
    "feature_names = [f\"Features {i}\" for i in range(data.shape[1])]\n",
    "coef = pd.Series(coef, index=feature_names)\n",
    "coef.plot.barh()\n",
    "coef"
   ]
  },
  {
   "cell_type": "markdown",
   "id": "cf2ba433",
   "metadata": {},
   "source": [
    "Create a `LinearRegression` regressor and fit on the entire dataset and\n",
    "check the value of the coefficients. Are the coefficients of the linear\n",
    "regressor close to the coefficients used to generate the dataset?"
   ]
  },
  {
   "cell_type": "code",
   "execution_count": 3,
   "id": "395f0ab1",
   "metadata": {},
   "outputs": [
    {
     "data": {
      "text/plain": [
       "array([10.89587004, 40.41128042, -0.20542454, -0.18954462,  0.11129768])"
      ]
     },
     "execution_count": 3,
     "metadata": {},
     "output_type": "execute_result"
    }
   ],
   "source": [
    "from sklearn.linear_model import LinearRegression\n",
    "\n",
    "linear_regression = LinearRegression()\n",
    "linear_regression.fit(data, target)\n",
    "linear_regression.coef_"
   ]
  },
  {
   "cell_type": "code",
   "execution_count": null,
   "id": "63f8651d",
   "metadata": {},
   "outputs": [],
   "source": [
    "feature_names = [f\"Features {i}\" for i in range(data.shape[1])]\n",
    "coef = pd.Series(linear_regression.coef_, index=feature_names)\n",
    "_ = coef.plot.barh()"
   ]
  },
  {
   "cell_type": "markdown",
   "id": "856b5609",
   "metadata": {},
   "source": [
    "We see that the coefficients are close to the coefficients used to generate\n",
    "the dataset. The dispersion is indeed cause by the noise injected during the\n",
    "dataset generation."
   ]
  },
  {
   "cell_type": "markdown",
   "id": "bf2b0dc5",
   "metadata": {},
   "source": [
    "Now, create a new dataset that will be the same as `data` with 4 additional\n",
    "columns that will repeat twice features 0 and 1. This procedure will create\n",
    "perfectly correlated features."
   ]
  },
  {
   "cell_type": "code",
   "execution_count": 10,
   "id": "780b24d0",
   "metadata": {},
   "outputs": [
    {
     "data": {
      "text/plain": [
       "array([[ 1.76405235,  0.40015721,  0.97873798, ...,  0.40015721,\n",
       "         1.76405235,  0.40015721],\n",
       "       [-0.97727788,  0.95008842, -0.15135721, ...,  0.95008842,\n",
       "        -0.97727788,  0.95008842],\n",
       "       [ 0.14404357,  1.45427351,  0.76103773, ...,  1.45427351,\n",
       "         0.14404357,  1.45427351],\n",
       "       ...,\n",
       "       [-0.77440295,  0.70878733,  0.0184736 , ...,  0.70878733,\n",
       "        -0.77440295,  0.70878733],\n",
       "       [-0.25090635, -0.96275025,  0.49340515, ..., -0.96275025,\n",
       "        -0.25090635, -0.96275025],\n",
       "       [-1.80928169,  0.04235881,  0.51687218, ...,  0.04235881,\n",
       "        -1.80928169,  0.04235881]])"
      ]
     },
     "execution_count": 10,
     "metadata": {},
     "output_type": "execute_result"
    }
   ],
   "source": [
    "import numpy as np\n",
    "\n",
    "column0 = data[:, 0].reshape(len(data), 1)\n",
    "column1 = data[:, 1].reshape(len(data), 1)\n",
    "new_data = np.hstack([data, column0, column1, column0, column1,])\n",
    "new_data"
   ]
  },
  {
   "cell_type": "markdown",
   "id": "dd58b659",
   "metadata": {},
   "source": [
    "Fit again the linear regressor on this new dataset and check the\n",
    "coefficients. What do you observe?"
   ]
  },
  {
   "cell_type": "code",
   "execution_count": 11,
   "id": "591766f9",
   "metadata": {},
   "outputs": [
    {
     "data": {
      "text/plain": [
       "array([ 3.63195668, 13.47042681, -0.20542454, -0.18954462,  0.11129768,\n",
       "        3.63195668, 13.47042681,  3.63195668, 13.47042681])"
      ]
     },
     "execution_count": 11,
     "metadata": {},
     "output_type": "execute_result"
    }
   ],
   "source": [
    "new_linear_regression = LinearRegression()\n",
    "new_linear_regression.fit(new_data, target)\n",
    "new_linear_regression.coef_"
   ]
  },
  {
   "cell_type": "markdown",
   "id": "4002ae42",
   "metadata": {},
   "source": [
    "Create a ridge regressor and fit on the same dataset. Check the coefficients.\n",
    "What do you observe?"
   ]
  },
  {
   "cell_type": "code",
   "execution_count": 17,
   "id": "3f966798",
   "metadata": {},
   "outputs": [
    {
     "data": {
      "text/plain": [
       "array([ 3.6313933 , 13.46802113, -0.20549345, -0.18929961,  0.11117205,\n",
       "        3.6313933 , 13.46802113,  3.6313933 , 13.46802113])"
      ]
     },
     "execution_count": 17,
     "metadata": {},
     "output_type": "execute_result"
    }
   ],
   "source": [
    "from sklearn.linear_model import Ridge\n",
    "\n",
    "ridge = Ridge()\n",
    "ridge.fit(new_data, target)\n",
    "ridge.coef_"
   ]
  },
  {
   "cell_type": "markdown",
   "id": "7110b715",
   "metadata": {},
   "source": [
    "Can you find the relationship between the ridge coefficients and the original\n",
    "coefficients?"
   ]
  },
  {
   "cell_type": "code",
   "execution_count": 18,
   "id": "4bf1d645",
   "metadata": {},
   "outputs": [
    {
     "data": {
      "text/plain": [
       "array([10.89417991, 40.40406338, -0.61648035, -0.56789883,  0.33351616])"
      ]
     },
     "execution_count": 18,
     "metadata": {},
     "output_type": "execute_result"
    }
   ],
   "source": [
    "ridge.coef_[:5] * 3"
   ]
  },
  {
   "cell_type": "code",
   "execution_count": null,
   "id": "7d7edd00-9123-44dc-98a5-c23ad0ed71fa",
   "metadata": {},
   "outputs": [],
   "source": []
  }
 ],
 "metadata": {
  "jupytext": {
   "cell_metadata_filter": "-all",
   "main_language": "python",
   "notebook_metadata_filter": "-all"
  },
  "kernelspec": {
   "display_name": "Python (blog)",
   "language": "python",
   "name": "blog"
  },
  "language_info": {
   "codemirror_mode": {
    "name": "ipython",
    "version": 3
   },
   "file_extension": ".py",
   "mimetype": "text/x-python",
   "name": "python",
   "nbconvert_exporter": "python",
   "pygments_lexer": "ipython3",
   "version": "3.9.2"
  }
 },
 "nbformat": 4,
 "nbformat_minor": 5
}
